{
 "cells": [
  {
   "cell_type": "markdown",
   "id": "7fc50073",
   "metadata": {},
   "source": [
    "**Notebook de exemplo**\n",
    "\n",
    "Apenas um exemplo para mostrar como importar notebook do python no latex:"
   ]
  },
  {
   "cell_type": "code",
   "execution_count": 3,
   "id": "9e4ee7b3",
   "metadata": {},
   "outputs": [
    {
     "data": {
      "text/plain": [
       "4827.770000000001"
      ]
     },
     "execution_count": 3,
     "metadata": {},
     "output_type": "execute_result"
    }
   ],
   "source": [
    "import seaborn as sns\n",
    "import matplotlib.pyplot as plt\n",
    "\n",
    "data = sns.load_dataset(\"tips\")\n",
    "sum(data['total_bill'])"
   ]
  },
  {
   "cell_type": "code",
   "execution_count": null,
   "id": "355a69d4",
   "metadata": {},
   "outputs": [],
   "source": []
  }
 ],
 "metadata": {
  "kernelspec": {
   "display_name": "Python 3 (ipykernel)",
   "language": "python",
   "name": "python3"
  },
  "language_info": {
   "codemirror_mode": {
    "name": "ipython",
    "version": 3
   },
   "file_extension": ".py",
   "mimetype": "text/x-python",
   "name": "python",
   "nbconvert_exporter": "python",
   "pygments_lexer": "ipython3",
   "version": "3.8.10"
  }
 },
 "nbformat": 4,
 "nbformat_minor": 5
}
